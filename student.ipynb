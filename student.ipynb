{
 "cells": [
  {
   "cell_type": "markdown",
   "metadata": {},
   "source": [
    "# Final Project Submission\n",
    "\n",
    "Sarah Lowing      Flex \n",
    "\n",
    "Blockbuster movies bring in billions for the studios behind them, and film entertainment is a multi billion dollar industry, particularly when we add in revenue from franchising. But with production costs that can run into the hundreds of millions, studios must be careful about which movies they invest in.  The new media arm of Microsoft, like any other business, should look carefully at the data behind the top office earners in order to make informed decisions about which projects will likely provide the best return.  We can determine this by taking a close look at the genres of movies that are most frequently represented within the top quartile of film's worldwide gross, examining the relationship if (any) between film budgets and earnings, and finally by  "
   ]
  },
  {
   "cell_type": "code",
   "execution_count": null,
   "metadata": {},
   "outputs": [],
   "source": [
    "# INSERT PHOTO\n",
    "\n",
    "#Scheduled project review date/time:           \n",
    "#Instructor name: \n",
    "#Blog post URL:"
   ]
  },
  {
   "cell_type": "markdown",
   "metadata": {},
   "source": [
    "## Importing and Cleaning Data (EDA)\n",
    "\n",
    "### Earnings\n",
    "\n",
    "Let's  start by taking a look at box office eanings.  To do this we'll create a df of box office earnings from Box Office Mojo, or BOM. Then we'll join that information with a table from imdb that catagorizes those movies by genre.  To start, let's import the relevent libraries."
   ]
  },
  {
   "cell_type": "code",
   "execution_count": 462,
   "metadata": {},
   "outputs": [],
   "source": [
    "#import relevent libraries\n",
    "import pandas as pd\n",
    "import numpy as np\n",
    "import sqlite3 \n",
    "import seaborn as sns\n",
    "import zipfile as zf\n",
    "import re"
   ]
  },
  {
   "cell_type": "markdown",
   "metadata": {},
   "source": [
    "Now we'll import our box office earnings data from BOM, and sort it by total_gross in descending order."
   ]
  },
  {
   "cell_type": "code",
   "execution_count": null,
   "metadata": {},
   "outputs": [],
   "source": [
    "\"\"\"\n",
    "In the following cells we will:\n",
    "1. Clean the box office gross data \n",
    "2. Add foreign and domestic gross together for total_gross\n",
    "3. Display box office earnings for movies in the top quartile\n",
    "\n",
    "\"\"\""
   ]
  },
  {
   "cell_type": "code",
   "execution_count": 456,
   "metadata": {
    "scrolled": false
   },
   "outputs": [
    {
     "data": {
      "text/html": [
       "<div>\n",
       "<style scoped>\n",
       "    .dataframe tbody tr th:only-of-type {\n",
       "        vertical-align: middle;\n",
       "    }\n",
       "\n",
       "    .dataframe tbody tr th {\n",
       "        vertical-align: top;\n",
       "    }\n",
       "\n",
       "    .dataframe thead th {\n",
       "        text-align: right;\n",
       "    }\n",
       "</style>\n",
       "<table border=\"1\" class=\"dataframe\">\n",
       "  <thead>\n",
       "    <tr style=\"text-align: right;\">\n",
       "      <th></th>\n",
       "      <th>title</th>\n",
       "      <th>studio</th>\n",
       "      <th>domestic_gross</th>\n",
       "      <th>foreign_gross</th>\n",
       "      <th>year</th>\n",
       "      <th>total_gross</th>\n",
       "    </tr>\n",
       "  </thead>\n",
       "  <tbody>\n",
       "    <tr>\n",
       "      <th>0</th>\n",
       "      <td>marvels the avengers</td>\n",
       "      <td>BV</td>\n",
       "      <td>623400000</td>\n",
       "      <td>895500000</td>\n",
       "      <td>2012</td>\n",
       "      <td>1518900000</td>\n",
       "    </tr>\n",
       "    <tr>\n",
       "      <th>1</th>\n",
       "      <td>avengers age of ultron</td>\n",
       "      <td>BV</td>\n",
       "      <td>459000000</td>\n",
       "      <td>946400000</td>\n",
       "      <td>2015</td>\n",
       "      <td>1405400000</td>\n",
       "    </tr>\n",
       "    <tr>\n",
       "      <th>2</th>\n",
       "      <td>black panther</td>\n",
       "      <td>BV</td>\n",
       "      <td>700100000</td>\n",
       "      <td>646900000</td>\n",
       "      <td>2018</td>\n",
       "      <td>1347000000</td>\n",
       "    </tr>\n",
       "    <tr>\n",
       "      <th>3</th>\n",
       "      <td>harry potter and the deathly hallows part 2</td>\n",
       "      <td>WB</td>\n",
       "      <td>381000000</td>\n",
       "      <td>960500000</td>\n",
       "      <td>2011</td>\n",
       "      <td>1341500000</td>\n",
       "    </tr>\n",
       "    <tr>\n",
       "      <th>4</th>\n",
       "      <td>star wars the last jedi</td>\n",
       "      <td>BV</td>\n",
       "      <td>620200000</td>\n",
       "      <td>712400000</td>\n",
       "      <td>2017</td>\n",
       "      <td>1332600000</td>\n",
       "    </tr>\n",
       "  </tbody>\n",
       "</table>\n",
       "</div>"
      ],
      "text/plain": [
       "                                         title studio  domestic_gross  \\\n",
       "0                         marvels the avengers     BV       623400000   \n",
       "1                       avengers age of ultron     BV       459000000   \n",
       "2                                black panther     BV       700100000   \n",
       "3  harry potter and the deathly hallows part 2     WB       381000000   \n",
       "4                      star wars the last jedi     BV       620200000   \n",
       "\n",
       "   foreign_gross  year  total_gross  \n",
       "0      895500000  2012   1518900000  \n",
       "1      946400000  2015   1405400000  \n",
       "2      646900000  2018   1347000000  \n",
       "3      960500000  2011   1341500000  \n",
       "4      712400000  2017   1332600000  "
      ]
     },
     "execution_count": 456,
     "metadata": {},
     "output_type": "execute_result"
    }
   ],
   "source": [
    "# Import csv BOM data as df  \n",
    "df = pd.read_csv(\"zippedData/bom.movie_gross.csv.gz\")\n",
    "\n",
    "# Clean BOM earnings data\n",
    "df['domestic_gross'] = df['domestic_gross'].fillna(0)\n",
    "df['domestic_gross'] = df['domestic_gross'].astype(int)\n",
    "df['foreign_gross'] = pd.to_numeric(df['foreign_gross'], errors='coerce')\n",
    "df['foreign_gross'] = df['foreign_gross'].fillna(0)\n",
    "df['foreign_gross'] = df['foreign_gross'].astype(int)\n",
    "df['total_gross'] = (df['domestic_gross'] + df['foreign_gross'])\n",
    "\n",
    "# Return sorted df\n",
    "earnings_sort = df.sort_values(by=['total_gross'], ascending=False)\n",
    "earnings_sorted = earnings_sort.reset_index(drop=True)\n",
    "\n",
    "# Clean titles: drop punctuation and transform to lower case\n",
    "earnings_sorted['title'] = earnings_sorted['title'].str.lower().str.replace(r'[^\\w\\s]+', '')\n",
    "earnings_sorted.head()\n",
    "earnings_sorted"
   ]
  },
  {
   "cell_type": "markdown",
   "metadata": {},
   "source": [
    "### Establishing Genres\n",
    "Now that we have our earnings data, let's check out the genres of those movies using the imdb database.  "
   ]
  },
  {
   "cell_type": "code",
   "execution_count": 403,
   "metadata": {},
   "outputs": [],
   "source": [
    "#connect to imdb sql db\n",
    "conn = sqlite3.connect(\"im.db\")\n",
    "cur = conn.cursor()"
   ]
  },
  {
   "cell_type": "code",
   "execution_count": 404,
   "metadata": {},
   "outputs": [
    {
     "data": {
      "text/html": [
       "<div>\n",
       "<style scoped>\n",
       "    .dataframe tbody tr th:only-of-type {\n",
       "        vertical-align: middle;\n",
       "    }\n",
       "\n",
       "    .dataframe tbody tr th {\n",
       "        vertical-align: top;\n",
       "    }\n",
       "\n",
       "    .dataframe thead th {\n",
       "        text-align: right;\n",
       "    }\n",
       "</style>\n",
       "<table border=\"1\" class=\"dataframe\">\n",
       "  <thead>\n",
       "    <tr style=\"text-align: right;\">\n",
       "      <th></th>\n",
       "      <th>title</th>\n",
       "      <th>genres</th>\n",
       "    </tr>\n",
       "  </thead>\n",
       "  <tbody>\n",
       "    <tr>\n",
       "      <th>0</th>\n",
       "      <td>sunghursh</td>\n",
       "      <td>Action,Crime,Drama</td>\n",
       "    </tr>\n",
       "    <tr>\n",
       "      <th>1</th>\n",
       "      <td>one day before the rainy season</td>\n",
       "      <td>Biography,Drama</td>\n",
       "    </tr>\n",
       "    <tr>\n",
       "      <th>2</th>\n",
       "      <td>the other side of the wind</td>\n",
       "      <td>Drama</td>\n",
       "    </tr>\n",
       "    <tr>\n",
       "      <th>3</th>\n",
       "      <td>sabse bada sukh</td>\n",
       "      <td>Comedy,Drama</td>\n",
       "    </tr>\n",
       "    <tr>\n",
       "      <th>4</th>\n",
       "      <td>the wandering soap opera</td>\n",
       "      <td>Comedy,Drama,Fantasy</td>\n",
       "    </tr>\n",
       "  </tbody>\n",
       "</table>\n",
       "</div>"
      ],
      "text/plain": [
       "                             title                genres\n",
       "0                        sunghursh    Action,Crime,Drama\n",
       "1  one day before the rainy season       Biography,Drama\n",
       "2       the other side of the wind                 Drama\n",
       "3                  sabse bada sukh          Comedy,Drama\n",
       "4         the wandering soap opera  Comedy,Drama,Fantasy"
      ]
     },
     "execution_count": 404,
     "metadata": {},
     "output_type": "execute_result"
    }
   ],
   "source": [
    "#create df showing genres\n",
    "#rename column to make compatable with top_earners and drop unneccessary columns\n",
    "#clean \"title\"\n",
    "genres_all = pd.read_sql(\"SELECT * FROM movie_basics\", conn)\n",
    "genres_all.rename(columns={'primary_title':'title'}, inplace=True)\n",
    "genres_all.drop(columns = ['movie_id','original_title', \n",
    "                           'start_year','runtime_minutes'], inplace=True)\n",
    "genres_all['title'] = genres_all['title'].str.lower().str.replace(r'[^\\w\\s]+', '')\n",
    "genres_all.head()"
   ]
  },
  {
   "cell_type": "code",
   "execution_count": 570,
   "metadata": {},
   "outputs": [
    {
     "data": {
      "text/html": [
       "<div>\n",
       "<style scoped>\n",
       "    .dataframe tbody tr th:only-of-type {\n",
       "        vertical-align: middle;\n",
       "    }\n",
       "\n",
       "    .dataframe tbody tr th {\n",
       "        vertical-align: top;\n",
       "    }\n",
       "\n",
       "    .dataframe thead th {\n",
       "        text-align: right;\n",
       "    }\n",
       "</style>\n",
       "<table border=\"1\" class=\"dataframe\">\n",
       "  <thead>\n",
       "    <tr style=\"text-align: right;\">\n",
       "      <th></th>\n",
       "      <th>title</th>\n",
       "      <th>studio</th>\n",
       "      <th>domestic_gross</th>\n",
       "      <th>foreign_gross</th>\n",
       "      <th>year</th>\n",
       "      <th>total_gross</th>\n",
       "      <th>genres</th>\n",
       "    </tr>\n",
       "  </thead>\n",
       "  <tbody>\n",
       "    <tr>\n",
       "      <th>0</th>\n",
       "      <td>marvels the avengers</td>\n",
       "      <td>BV</td>\n",
       "      <td>623400000</td>\n",
       "      <td>895500000</td>\n",
       "      <td>2012</td>\n",
       "      <td>1518900000</td>\n",
       "      <td>NaN</td>\n",
       "    </tr>\n",
       "    <tr>\n",
       "      <th>1</th>\n",
       "      <td>avengers age of ultron</td>\n",
       "      <td>BV</td>\n",
       "      <td>459000000</td>\n",
       "      <td>946400000</td>\n",
       "      <td>2015</td>\n",
       "      <td>1405400000</td>\n",
       "      <td>Action,Adventure,Sci-Fi</td>\n",
       "    </tr>\n",
       "    <tr>\n",
       "      <th>2</th>\n",
       "      <td>black panther</td>\n",
       "      <td>BV</td>\n",
       "      <td>700100000</td>\n",
       "      <td>646900000</td>\n",
       "      <td>2018</td>\n",
       "      <td>1347000000</td>\n",
       "      <td>Action,Adventure,Sci-Fi</td>\n",
       "    </tr>\n",
       "    <tr>\n",
       "      <th>3</th>\n",
       "      <td>harry potter and the deathly hallows part 2</td>\n",
       "      <td>WB</td>\n",
       "      <td>381000000</td>\n",
       "      <td>960500000</td>\n",
       "      <td>2011</td>\n",
       "      <td>1341500000</td>\n",
       "      <td>Adventure,Drama,Fantasy</td>\n",
       "    </tr>\n",
       "    <tr>\n",
       "      <th>4</th>\n",
       "      <td>star wars the last jedi</td>\n",
       "      <td>BV</td>\n",
       "      <td>620200000</td>\n",
       "      <td>712400000</td>\n",
       "      <td>2017</td>\n",
       "      <td>1332600000</td>\n",
       "      <td>Action,Adventure,Fantasy</td>\n",
       "    </tr>\n",
       "    <tr>\n",
       "      <th>5</th>\n",
       "      <td>jurassic world fallen kingdom</td>\n",
       "      <td>Uni.</td>\n",
       "      <td>417700000</td>\n",
       "      <td>891800000</td>\n",
       "      <td>2018</td>\n",
       "      <td>1309500000</td>\n",
       "      <td>Action,Adventure,Sci-Fi</td>\n",
       "    </tr>\n",
       "    <tr>\n",
       "      <th>6</th>\n",
       "      <td>frozen</td>\n",
       "      <td>BV</td>\n",
       "      <td>400700000</td>\n",
       "      <td>875700000</td>\n",
       "      <td>2013</td>\n",
       "      <td>1276400000</td>\n",
       "      <td>Adventure,Drama,Sport</td>\n",
       "    </tr>\n",
       "    <tr>\n",
       "      <th>7</th>\n",
       "      <td>frozen</td>\n",
       "      <td>BV</td>\n",
       "      <td>400700000</td>\n",
       "      <td>875700000</td>\n",
       "      <td>2013</td>\n",
       "      <td>1276400000</td>\n",
       "      <td>Fantasy,Romance</td>\n",
       "    </tr>\n",
       "    <tr>\n",
       "      <th>8</th>\n",
       "      <td>frozen</td>\n",
       "      <td>BV</td>\n",
       "      <td>400700000</td>\n",
       "      <td>875700000</td>\n",
       "      <td>2013</td>\n",
       "      <td>1276400000</td>\n",
       "      <td>Adventure,Animation,Comedy</td>\n",
       "    </tr>\n",
       "    <tr>\n",
       "      <th>9</th>\n",
       "      <td>beauty and the beast 2017</td>\n",
       "      <td>BV</td>\n",
       "      <td>504000000</td>\n",
       "      <td>759500000</td>\n",
       "      <td>2017</td>\n",
       "      <td>1263500000</td>\n",
       "      <td>NaN</td>\n",
       "    </tr>\n",
       "    <tr>\n",
       "      <th>10</th>\n",
       "      <td>incredibles 2</td>\n",
       "      <td>BV</td>\n",
       "      <td>608600000</td>\n",
       "      <td>634200000</td>\n",
       "      <td>2018</td>\n",
       "      <td>1242800000</td>\n",
       "      <td>Action,Adventure,Animation</td>\n",
       "    </tr>\n",
       "    <tr>\n",
       "      <th>11</th>\n",
       "      <td>iron man 3</td>\n",
       "      <td>BV</td>\n",
       "      <td>409000000</td>\n",
       "      <td>805800000</td>\n",
       "      <td>2013</td>\n",
       "      <td>1214800000</td>\n",
       "      <td>Action,Adventure,Sci-Fi</td>\n",
       "    </tr>\n",
       "    <tr>\n",
       "      <th>12</th>\n",
       "      <td>minions</td>\n",
       "      <td>Uni.</td>\n",
       "      <td>336000000</td>\n",
       "      <td>823400000</td>\n",
       "      <td>2015</td>\n",
       "      <td>1159400000</td>\n",
       "      <td>Adventure,Animation,Comedy</td>\n",
       "    </tr>\n",
       "    <tr>\n",
       "      <th>13</th>\n",
       "      <td>captain america civil war</td>\n",
       "      <td>BV</td>\n",
       "      <td>408100000</td>\n",
       "      <td>745200000</td>\n",
       "      <td>2016</td>\n",
       "      <td>1153300000</td>\n",
       "      <td>Action,Adventure,Sci-Fi</td>\n",
       "    </tr>\n",
       "    <tr>\n",
       "      <th>14</th>\n",
       "      <td>aquaman</td>\n",
       "      <td>WB</td>\n",
       "      <td>335100000</td>\n",
       "      <td>812700000</td>\n",
       "      <td>2018</td>\n",
       "      <td>1147800000</td>\n",
       "      <td>Action,Adventure,Fantasy</td>\n",
       "    </tr>\n",
       "    <tr>\n",
       "      <th>15</th>\n",
       "      <td>transformers dark of the moon</td>\n",
       "      <td>P/DW</td>\n",
       "      <td>352400000</td>\n",
       "      <td>771400000</td>\n",
       "      <td>2011</td>\n",
       "      <td>1123800000</td>\n",
       "      <td>Action,Adventure,Sci-Fi</td>\n",
       "    </tr>\n",
       "    <tr>\n",
       "      <th>16</th>\n",
       "      <td>skyfall</td>\n",
       "      <td>Sony</td>\n",
       "      <td>304400000</td>\n",
       "      <td>804200000</td>\n",
       "      <td>2012</td>\n",
       "      <td>1108600000</td>\n",
       "      <td>Action,Adventure,Thriller</td>\n",
       "    </tr>\n",
       "    <tr>\n",
       "      <th>17</th>\n",
       "      <td>transformers age of extinction</td>\n",
       "      <td>Par.</td>\n",
       "      <td>245400000</td>\n",
       "      <td>858600000</td>\n",
       "      <td>2014</td>\n",
       "      <td>1104000000</td>\n",
       "      <td>Action,Adventure,Sci-Fi</td>\n",
       "    </tr>\n",
       "    <tr>\n",
       "      <th>18</th>\n",
       "      <td>the dark knight rises</td>\n",
       "      <td>WB</td>\n",
       "      <td>448100000</td>\n",
       "      <td>636800000</td>\n",
       "      <td>2012</td>\n",
       "      <td>1084900000</td>\n",
       "      <td>Action,Thriller</td>\n",
       "    </tr>\n",
       "    <tr>\n",
       "      <th>19</th>\n",
       "      <td>toy story 3</td>\n",
       "      <td>BV</td>\n",
       "      <td>415000000</td>\n",
       "      <td>652000000</td>\n",
       "      <td>2010</td>\n",
       "      <td>1067000000</td>\n",
       "      <td>Adventure,Animation,Comedy</td>\n",
       "    </tr>\n",
       "  </tbody>\n",
       "</table>\n",
       "</div>"
      ],
      "text/plain": [
       "                                          title studio  domestic_gross  \\\n",
       "0                          marvels the avengers     BV       623400000   \n",
       "1                        avengers age of ultron     BV       459000000   \n",
       "2                                 black panther     BV       700100000   \n",
       "3   harry potter and the deathly hallows part 2     WB       381000000   \n",
       "4                       star wars the last jedi     BV       620200000   \n",
       "5                 jurassic world fallen kingdom   Uni.       417700000   \n",
       "6                                        frozen     BV       400700000   \n",
       "7                                        frozen     BV       400700000   \n",
       "8                                        frozen     BV       400700000   \n",
       "9                     beauty and the beast 2017     BV       504000000   \n",
       "10                                incredibles 2     BV       608600000   \n",
       "11                                   iron man 3     BV       409000000   \n",
       "12                                      minions   Uni.       336000000   \n",
       "13                    captain america civil war     BV       408100000   \n",
       "14                                      aquaman     WB       335100000   \n",
       "15                transformers dark of the moon   P/DW       352400000   \n",
       "16                                      skyfall   Sony       304400000   \n",
       "17               transformers age of extinction   Par.       245400000   \n",
       "18                        the dark knight rises     WB       448100000   \n",
       "19                                  toy story 3     BV       415000000   \n",
       "\n",
       "    foreign_gross  year  total_gross                      genres  \n",
       "0       895500000  2012   1518900000                         NaN  \n",
       "1       946400000  2015   1405400000     Action,Adventure,Sci-Fi  \n",
       "2       646900000  2018   1347000000     Action,Adventure,Sci-Fi  \n",
       "3       960500000  2011   1341500000     Adventure,Drama,Fantasy  \n",
       "4       712400000  2017   1332600000    Action,Adventure,Fantasy  \n",
       "5       891800000  2018   1309500000     Action,Adventure,Sci-Fi  \n",
       "6       875700000  2013   1276400000       Adventure,Drama,Sport  \n",
       "7       875700000  2013   1276400000             Fantasy,Romance  \n",
       "8       875700000  2013   1276400000  Adventure,Animation,Comedy  \n",
       "9       759500000  2017   1263500000                         NaN  \n",
       "10      634200000  2018   1242800000  Action,Adventure,Animation  \n",
       "11      805800000  2013   1214800000     Action,Adventure,Sci-Fi  \n",
       "12      823400000  2015   1159400000  Adventure,Animation,Comedy  \n",
       "13      745200000  2016   1153300000     Action,Adventure,Sci-Fi  \n",
       "14      812700000  2018   1147800000    Action,Adventure,Fantasy  \n",
       "15      771400000  2011   1123800000     Action,Adventure,Sci-Fi  \n",
       "16      804200000  2012   1108600000   Action,Adventure,Thriller  \n",
       "17      858600000  2014   1104000000     Action,Adventure,Sci-Fi  \n",
       "18      636800000  2012   1084900000             Action,Thriller  \n",
       "19      652000000  2010   1067000000  Adventure,Animation,Comedy  "
      ]
     },
     "execution_count": 570,
     "metadata": {},
     "output_type": "execute_result"
    }
   ],
   "source": [
    "#merge earnings and genres dfs\n",
    "earnings_and_genre= earnings_sorted.merge(genres_all, on=\"title\", how='left')\n",
    "earnings_and_genre.head(20)"
   ]
  },
  {
   "cell_type": "markdown",
   "metadata": {},
   "source": [
    "#### Checking For Nan Values and Duplicates\n",
    "\n",
    "We can see that despite cleaning titles, there's still some NaN values in genres, including two in our top 20 grossing films.  Due to naming convention mismatches we'll focus on getting those values for the top 20 films and leaving the remainder.  We can also see there are some duplicates in our data, we'll go ahead and drop those as well."
   ]
  },
  {
   "cell_type": "code",
   "execution_count": 329,
   "metadata": {},
   "outputs": [
    {
     "name": "stdout",
     "output_type": "stream",
     "text": [
      "TOTAL ROWS: 3386\n",
      "-------------------\n",
      "NaN VALUES: 648\n"
     ]
    }
   ],
   "source": [
    "# It looks like a significant number of , but still fairly small number of our values are NaN. \n",
    "# We'll focus on filling in the data for the top 20 films\n",
    "\n",
    "#check for duplicates\n",
    "dups = earnings_and_genre.duplicated(subset=['title'])\n",
    "# drop duplicates\n",
    "earnings_and_genre.drop_duplicates(subset=['title'], keep='first', inplace=True)\n",
    "\n",
    "len(earnings_and_genre)\n",
    "print(\"TOTAL ROWS:\", len(earnings_and_genre))\n",
    "print('-------------------')\n",
    "print(\"NaN VALUES:\", earnings_and_genre['genres'].isnull().sum())"
   ]
  },
  {
   "cell_type": "code",
   "execution_count": 330,
   "metadata": {},
   "outputs": [],
   "source": [
    "# Fill in values for 'genre' for the 10 highest grossing films:\n",
    "# First we'll locate the genre for the film\n",
    "\n",
    "#genres_all.loc[genres_all['title'].str.contains('avengers')]\n",
    "#genres_all.loc[genres_all['title'].str.contains('beauty and the beast')]\n",
    "\n",
    "# Next we replace NaN with the genres\n",
    "earnings_and_genre.loc[earnings_and_genre['title']== 'marvels the avengers', 'genres'] ='Action,Adventure,Sci-Fi'\n",
    "earnings_and_genre.loc[earnings_and_genre['title']==  'beauty and the beast 2017','genres'] = 'Family,Fantasy,Musical'\n",
    "\n"
   ]
  },
  {
   "cell_type": "code",
   "execution_count": 331,
   "metadata": {},
   "outputs": [
    {
     "data": {
      "text/html": [
       "<div>\n",
       "<style scoped>\n",
       "    .dataframe tbody tr th:only-of-type {\n",
       "        vertical-align: middle;\n",
       "    }\n",
       "\n",
       "    .dataframe tbody tr th {\n",
       "        vertical-align: top;\n",
       "    }\n",
       "\n",
       "    .dataframe thead th {\n",
       "        text-align: right;\n",
       "    }\n",
       "</style>\n",
       "<table border=\"1\" class=\"dataframe\">\n",
       "  <thead>\n",
       "    <tr style=\"text-align: right;\">\n",
       "      <th></th>\n",
       "      <th>title</th>\n",
       "      <th>studio</th>\n",
       "      <th>domestic_gross</th>\n",
       "      <th>foreign_gross</th>\n",
       "      <th>year</th>\n",
       "      <th>total_gross</th>\n",
       "      <th>genres</th>\n",
       "    </tr>\n",
       "  </thead>\n",
       "  <tbody>\n",
       "    <tr>\n",
       "      <th>0</th>\n",
       "      <td>marvels the avengers</td>\n",
       "      <td>BV</td>\n",
       "      <td>623400000</td>\n",
       "      <td>895500000</td>\n",
       "      <td>2012</td>\n",
       "      <td>1518900000</td>\n",
       "      <td>Action,Adventure,Sci-Fi</td>\n",
       "    </tr>\n",
       "    <tr>\n",
       "      <th>1</th>\n",
       "      <td>avengers age of ultron</td>\n",
       "      <td>BV</td>\n",
       "      <td>459000000</td>\n",
       "      <td>946400000</td>\n",
       "      <td>2015</td>\n",
       "      <td>1405400000</td>\n",
       "      <td>Action,Adventure,Sci-Fi</td>\n",
       "    </tr>\n",
       "    <tr>\n",
       "      <th>2</th>\n",
       "      <td>black panther</td>\n",
       "      <td>BV</td>\n",
       "      <td>700100000</td>\n",
       "      <td>646900000</td>\n",
       "      <td>2018</td>\n",
       "      <td>1347000000</td>\n",
       "      <td>Action,Adventure,Sci-Fi</td>\n",
       "    </tr>\n",
       "    <tr>\n",
       "      <th>3</th>\n",
       "      <td>harry potter and the deathly hallows part 2</td>\n",
       "      <td>WB</td>\n",
       "      <td>381000000</td>\n",
       "      <td>960500000</td>\n",
       "      <td>2011</td>\n",
       "      <td>1341500000</td>\n",
       "      <td>Adventure,Drama,Fantasy</td>\n",
       "    </tr>\n",
       "    <tr>\n",
       "      <th>4</th>\n",
       "      <td>star wars the last jedi</td>\n",
       "      <td>BV</td>\n",
       "      <td>620200000</td>\n",
       "      <td>712400000</td>\n",
       "      <td>2017</td>\n",
       "      <td>1332600000</td>\n",
       "      <td>Action,Adventure,Fantasy</td>\n",
       "    </tr>\n",
       "  </tbody>\n",
       "</table>\n",
       "</div>"
      ],
      "text/plain": [
       "                                         title studio  domestic_gross  \\\n",
       "0                         marvels the avengers     BV       623400000   \n",
       "1                       avengers age of ultron     BV       459000000   \n",
       "2                                black panther     BV       700100000   \n",
       "3  harry potter and the deathly hallows part 2     WB       381000000   \n",
       "4                      star wars the last jedi     BV       620200000   \n",
       "\n",
       "   foreign_gross  year  total_gross                    genres  \n",
       "0      895500000  2012   1518900000   Action,Adventure,Sci-Fi  \n",
       "1      946400000  2015   1405400000   Action,Adventure,Sci-Fi  \n",
       "2      646900000  2018   1347000000   Action,Adventure,Sci-Fi  \n",
       "3      960500000  2011   1341500000   Adventure,Drama,Fantasy  \n",
       "4      712400000  2017   1332600000  Action,Adventure,Fantasy  "
      ]
     },
     "execution_count": 331,
     "metadata": {},
     "output_type": "execute_result"
    }
   ],
   "source": [
    "earnings_and_genre.head()"
   ]
  },
  {
   "cell_type": "markdown",
   "metadata": {},
   "source": [
    "## Analysis\n",
    "### Digging Deeper Into Genres\n",
    "First we'll look at the distribution of genres over our entire dataset.  Next we'll take a more granular view of the top quartile of earnings; we'll look at the distribution of genres for that subset, and seeing if there are any genres that are represented disproportionately in the top quartile films."
   ]
  },
  {
   "cell_type": "code",
   "execution_count": 332,
   "metadata": {},
   "outputs": [],
   "source": [
    "#Split csv genres into seperate categories\n",
    "genres_split= earnings_and_genre['genres'].str.split(',', \n",
    "        expand=True).stack().reset_index(level=1, drop=True)"
   ]
  },
  {
   "cell_type": "code",
   "execution_count": 545,
   "metadata": {
    "scrolled": false
   },
   "outputs": [
    {
     "data": {
      "image/png": "[encoded data removed]",
      "text/plain": [
       "<Figure size 864x360 with 1 Axes>"
      ]
     },
     "metadata": {},
     "output_type": "display_data"
    }
   ],
   "source": [
    "#genres_count=\n",
    "genres_list= genres_split.value_counts()\n",
    "\n",
    "\n",
    "sns.set(rc={\"figure.figsize\":(12,5)})\n",
    "p= sns.barplot(x=genres_list.index, y=genres_list.values, palette=\"colorblind\")\n",
    "p.tick_params(labelrotation=45)\n",
    "\n"
   ]
  },
  {
   "cell_type": "markdown",
   "metadata": {},
   "source": [
    ">Now that we've seen the distibution of genres for all our movies, let's take a closer look at the top quartile of films by total_gross\n"
   ]
  },
  {
   "cell_type": "code",
   "execution_count": 378,
   "metadata": {},
   "outputs": [
    {
     "data": {
      "text/plain": [
       "847"
      ]
     },
     "execution_count": 378,
     "metadata": {},
     "output_type": "execute_result"
    }
   ],
   "source": [
    "#Get the top quartile of gross earnings and store as top_earners:\n",
    "top_earners = earnings_and_genre[earnings_and_genre['total_gross'] >\\\n",
    "                                 earnings_and_genre['total_gross'].quantile(0.75)]\n",
    "len(top_earners)"
   ]
  },
  {
   "cell_type": "code",
   "execution_count": 376,
   "metadata": {},
   "outputs": [],
   "source": [
    "#explode genres\n",
    "genres_top_earners= top_earners['genres'].str.split(',', \n",
    "        expand=True).stack().reset_index(level=1, drop=True)"
   ]
  },
  {
   "cell_type": "code",
   "execution_count": 544,
   "metadata": {},
   "outputs": [
    {
     "data": {
      "image/png": "[encoded data removed]",
      "text/plain": [
       "<Figure size 864x360 with 1 Axes>"
      ]
     },
     "metadata": {},
     "output_type": "display_data"
    }
   ],
   "source": [
    "#plot genres\n",
    "genres_top_earners_list= genres_top_earners.value_counts()\n",
    "sns.set(rc={\"figure.figsize\":(12,5)})\n",
    "t= sns.barplot(x=genres_top_earners_list.index, y=genres_top_earners_list.values, palette=\"colorblind\")\n",
    "t.tick_params(labelrotation=45)"
   ]
  },
  {
   "cell_type": "markdown",
   "metadata": {},
   "source": [
    ">There's a rather significant change in the genres of our top films.  We can see that while most films produced are __dramas__, that the vast majority of top earning films tend to be __action__.  It's clear that there's a significant market for films that excite.  Lets take a look at just the top 20 grossing films to get an even closer view of which genres are represented most frequently there.  \n"
   ]
  },
  {
   "cell_type": "code",
   "execution_count": 541,
   "metadata": {},
   "outputs": [],
   "source": [
    "#get top 20 films and store as top_20\n",
    "top_20 = top_earners.head(20)\n",
    "#split genres\n",
    "t_20= top_20['genres'].str.split(',', \n",
    "        expand=True).stack().reset_index(level=1, drop=True)"
   ]
  },
  {
   "cell_type": "code",
   "execution_count": 543,
   "metadata": {},
   "outputs": [
    {
     "data": {
      "image/png": "[encoded data removed]",
      "text/plain": [
       "<Figure size 864x360 with 1 Axes>"
      ]
     },
     "metadata": {},
     "output_type": "display_data"
    }
   ],
   "source": [
    "#plot genres\n",
    "t_20_list = t_20.value_counts()\n",
    "sns.set(rc={\"figure.figsize\":(12,5)})\n",
    "t20= sns.barplot(x=t_20_list.index, y= t_20_list.values, palette=\"colorblind\")\n",
    "t20.tick_params(labelrotation=45)"
   ]
  },
  {
   "cell_type": "markdown",
   "metadata": {},
   "source": [
    ">We can see that the top grossing films heavily skew towards __Action/Adventure and Sci-Fi/Fantasy__.  Is this just a recent phenomena, or does this trend have longetivity?  Let's look at the dates that our top 20 films have been released."
   ]
  },
  {
   "cell_type": "code",
   "execution_count": 563,
   "metadata": {},
   "outputs": [
    {
     "data": {
      "text/html": [
       "<div>\n",
       "<style scoped>\n",
       "    .dataframe tbody tr th:only-of-type {\n",
       "        vertical-align: middle;\n",
       "    }\n",
       "\n",
       "    .dataframe tbody tr th {\n",
       "        vertical-align: top;\n",
       "    }\n",
       "\n",
       "    .dataframe thead th {\n",
       "        text-align: right;\n",
       "    }\n",
       "</style>\n",
       "<table border=\"1\" class=\"dataframe\">\n",
       "  <thead>\n",
       "    <tr style=\"text-align: right;\">\n",
       "      <th></th>\n",
       "      <th>title</th>\n",
       "      <th>year</th>\n",
       "    </tr>\n",
       "  </thead>\n",
       "  <tbody>\n",
       "    <tr>\n",
       "      <th>0</th>\n",
       "      <td>marvels the avengers</td>\n",
       "      <td>2012</td>\n",
       "    </tr>\n",
       "    <tr>\n",
       "      <th>1</th>\n",
       "      <td>avengers age of ultron</td>\n",
       "      <td>2015</td>\n",
       "    </tr>\n",
       "    <tr>\n",
       "      <th>2</th>\n",
       "      <td>black panther</td>\n",
       "      <td>2018</td>\n",
       "    </tr>\n",
       "    <tr>\n",
       "      <th>3</th>\n",
       "      <td>harry potter and the deathly hallows part 2</td>\n",
       "      <td>2011</td>\n",
       "    </tr>\n",
       "    <tr>\n",
       "      <th>4</th>\n",
       "      <td>star wars the last jedi</td>\n",
       "      <td>2017</td>\n",
       "    </tr>\n",
       "  </tbody>\n",
       "</table>\n",
       "</div>"
      ],
      "text/plain": [
       "                                         title  year\n",
       "0                         marvels the avengers  2012\n",
       "1                       avengers age of ultron  2015\n",
       "2                                black panther  2018\n",
       "3  harry potter and the deathly hallows part 2  2011\n",
       "4                      star wars the last jedi  2017"
      ]
     },
     "execution_count": 563,
     "metadata": {},
     "output_type": "execute_result"
    }
   ],
   "source": [
    "top_20_release_dates= top_20[['title','year']].copy()\n",
    "#new = old[['A', 'C', 'D']].copy()\n",
    "top_20_release_dates.head()"
   ]
  },
  {
   "cell_type": "code",
   "execution_count": 561,
   "metadata": {},
   "outputs": [
    {
     "name": "stdout",
     "output_type": "stream",
     "text": [
      "The oldest film in the top 20 grossing films is: 2010\n"
     ]
    }
   ],
   "source": [
    "print('The oldest film in the top 20 grossing films is:', top_20_release_dates['year'].min())"
   ]
  },
  {
   "cell_type": "code",
   "execution_count": 562,
   "metadata": {},
   "outputs": [
    {
     "name": "stdout",
     "output_type": "stream",
     "text": [
      "The oldest film in the top quartile of worldwide earnings is: 2010\n"
     ]
    }
   ],
   "source": [
    "top_earners_release_dates= top_earners[['title','year']].copy()\n",
    "print('The oldest film in the top quartile of worldwide earnings is:',\n",
    "      top_earners_release_dates['year'].min())"
   ]
  },
  {
   "cell_type": "markdown",
   "metadata": {},
   "source": [
    "\n",
    "\n",
    "OK! This tells us it's not just a passing trend, Action/Adventure films with a Sci-Fi/Fantasy twist have been big box office winners for a good long time."
   ]
  },
  {
   "cell_type": "markdown",
   "metadata": {},
   "source": []
  },
  {
   "cell_type": "code",
   "execution_count": 569,
   "metadata": {},
   "outputs": [
    {
     "data": {
      "text/html": [
       "<div>\n",
       "<style scoped>\n",
       "    .dataframe tbody tr th:only-of-type {\n",
       "        vertical-align: middle;\n",
       "    }\n",
       "\n",
       "    .dataframe tbody tr th {\n",
       "        vertical-align: top;\n",
       "    }\n",
       "\n",
       "    .dataframe thead th {\n",
       "        text-align: right;\n",
       "    }\n",
       "</style>\n",
       "<table border=\"1\" class=\"dataframe\">\n",
       "  <thead>\n",
       "    <tr style=\"text-align: right;\">\n",
       "      <th></th>\n",
       "      <th>title</th>\n",
       "      <th>studio</th>\n",
       "      <th>domestic_gross</th>\n",
       "      <th>foreign_gross</th>\n",
       "      <th>year</th>\n",
       "      <th>total_gross</th>\n",
       "      <th>genres</th>\n",
       "    </tr>\n",
       "  </thead>\n",
       "  <tbody>\n",
       "    <tr>\n",
       "      <th>0</th>\n",
       "      <td>marvels the avengers</td>\n",
       "      <td>BV</td>\n",
       "      <td>623400000</td>\n",
       "      <td>895500000</td>\n",
       "      <td>2012</td>\n",
       "      <td>1518900000</td>\n",
       "      <td>Action,Adventure,Sci-Fi</td>\n",
       "    </tr>\n",
       "    <tr>\n",
       "      <th>1</th>\n",
       "      <td>avengers age of ultron</td>\n",
       "      <td>BV</td>\n",
       "      <td>459000000</td>\n",
       "      <td>946400000</td>\n",
       "      <td>2015</td>\n",
       "      <td>1405400000</td>\n",
       "      <td>Action,Adventure,Sci-Fi</td>\n",
       "    </tr>\n",
       "    <tr>\n",
       "      <th>2</th>\n",
       "      <td>black panther</td>\n",
       "      <td>BV</td>\n",
       "      <td>700100000</td>\n",
       "      <td>646900000</td>\n",
       "      <td>2018</td>\n",
       "      <td>1347000000</td>\n",
       "      <td>Action,Adventure,Sci-Fi</td>\n",
       "    </tr>\n",
       "    <tr>\n",
       "      <th>3</th>\n",
       "      <td>harry potter and the deathly hallows part 2</td>\n",
       "      <td>WB</td>\n",
       "      <td>381000000</td>\n",
       "      <td>960500000</td>\n",
       "      <td>2011</td>\n",
       "      <td>1341500000</td>\n",
       "      <td>Adventure,Drama,Fantasy</td>\n",
       "    </tr>\n",
       "    <tr>\n",
       "      <th>4</th>\n",
       "      <td>star wars the last jedi</td>\n",
       "      <td>BV</td>\n",
       "      <td>620200000</td>\n",
       "      <td>712400000</td>\n",
       "      <td>2017</td>\n",
       "      <td>1332600000</td>\n",
       "      <td>Action,Adventure,Fantasy</td>\n",
       "    </tr>\n",
       "    <tr>\n",
       "      <th>...</th>\n",
       "      <td>...</td>\n",
       "      <td>...</td>\n",
       "      <td>...</td>\n",
       "      <td>...</td>\n",
       "      <td>...</td>\n",
       "      <td>...</td>\n",
       "      <td>...</td>\n",
       "    </tr>\n",
       "    <tr>\n",
       "      <th>1040</th>\n",
       "      <td>dragon ball z resurrection f</td>\n",
       "      <td>FUN</td>\n",
       "      <td>8000000</td>\n",
       "      <td>53800000</td>\n",
       "      <td>2015</td>\n",
       "      <td>61800000</td>\n",
       "      <td>Action,Adventure,Animation</td>\n",
       "    </tr>\n",
       "    <tr>\n",
       "      <th>1041</th>\n",
       "      <td>how to be a latin lover</td>\n",
       "      <td>PNT</td>\n",
       "      <td>32100000</td>\n",
       "      <td>29700000</td>\n",
       "      <td>2017</td>\n",
       "      <td>61800000</td>\n",
       "      <td>Comedy,Drama</td>\n",
       "    </tr>\n",
       "    <tr>\n",
       "      <th>1042</th>\n",
       "      <td>everything everything</td>\n",
       "      <td>WB</td>\n",
       "      <td>34100000</td>\n",
       "      <td>27500000</td>\n",
       "      <td>2017</td>\n",
       "      <td>61600000</td>\n",
       "      <td>Drama,Romance</td>\n",
       "    </tr>\n",
       "    <tr>\n",
       "      <th>1043</th>\n",
       "      <td>woman in gold</td>\n",
       "      <td>Wein.</td>\n",
       "      <td>33299999</td>\n",
       "      <td>28300000</td>\n",
       "      <td>2015</td>\n",
       "      <td>61599999</td>\n",
       "      <td>Biography,Drama,History</td>\n",
       "    </tr>\n",
       "    <tr>\n",
       "      <th>1044</th>\n",
       "      <td>krampus</td>\n",
       "      <td>Uni.</td>\n",
       "      <td>42700000</td>\n",
       "      <td>18800000</td>\n",
       "      <td>2015</td>\n",
       "      <td>61500000</td>\n",
       "      <td>Comedy,Fantasy,Horror</td>\n",
       "    </tr>\n",
       "  </tbody>\n",
       "</table>\n",
       "<p>847 rows × 7 columns</p>\n",
       "</div>"
      ],
      "text/plain": [
       "                                            title studio  domestic_gross  \\\n",
       "0                            marvels the avengers     BV       623400000   \n",
       "1                          avengers age of ultron     BV       459000000   \n",
       "2                                   black panther     BV       700100000   \n",
       "3     harry potter and the deathly hallows part 2     WB       381000000   \n",
       "4                         star wars the last jedi     BV       620200000   \n",
       "...                                           ...    ...             ...   \n",
       "1040                 dragon ball z resurrection f    FUN         8000000   \n",
       "1041                      how to be a latin lover    PNT        32100000   \n",
       "1042                        everything everything     WB        34100000   \n",
       "1043                                woman in gold  Wein.        33299999   \n",
       "1044                                      krampus   Uni.        42700000   \n",
       "\n",
       "      foreign_gross  year  total_gross                      genres  \n",
       "0         895500000  2012   1518900000     Action,Adventure,Sci-Fi  \n",
       "1         946400000  2015   1405400000     Action,Adventure,Sci-Fi  \n",
       "2         646900000  2018   1347000000     Action,Adventure,Sci-Fi  \n",
       "3         960500000  2011   1341500000     Adventure,Drama,Fantasy  \n",
       "4         712400000  2017   1332600000    Action,Adventure,Fantasy  \n",
       "...             ...   ...          ...                         ...  \n",
       "1040       53800000  2015     61800000  Action,Adventure,Animation  \n",
       "1041       29700000  2017     61800000                Comedy,Drama  \n",
       "1042       27500000  2017     61600000               Drama,Romance  \n",
       "1043       28300000  2015     61599999     Biography,Drama,History  \n",
       "1044       18800000  2015     61500000       Comedy,Fantasy,Horror  \n",
       "\n",
       "[847 rows x 7 columns]"
      ]
     },
     "execution_count": 569,
     "metadata": {},
     "output_type": "execute_result"
    }
   ],
   "source": [
    "top_earners"
   ]
  },
  {
   "cell_type": "code",
   "execution_count": 533,
   "metadata": {},
   "outputs": [
    {
     "data": {
      "text/html": [
       "<div>\n",
       "<style scoped>\n",
       "    .dataframe tbody tr th:only-of-type {\n",
       "        vertical-align: middle;\n",
       "    }\n",
       "\n",
       "    .dataframe tbody tr th {\n",
       "        vertical-align: top;\n",
       "    }\n",
       "\n",
       "    .dataframe thead th {\n",
       "        text-align: right;\n",
       "    }\n",
       "</style>\n",
       "<table border=\"1\" class=\"dataframe\">\n",
       "  <thead>\n",
       "    <tr style=\"text-align: right;\">\n",
       "      <th></th>\n",
       "      <th>title</th>\n",
       "      <th>total_gross</th>\n",
       "      <th>genre</th>\n",
       "    </tr>\n",
       "  </thead>\n",
       "  <tbody>\n",
       "    <tr>\n",
       "      <th>0</th>\n",
       "      <td>marvels the avengers</td>\n",
       "      <td>1518900000</td>\n",
       "      <td>Action</td>\n",
       "    </tr>\n",
       "    <tr>\n",
       "      <th>0</th>\n",
       "      <td>marvels the avengers</td>\n",
       "      <td>1518900000</td>\n",
       "      <td>Adventure</td>\n",
       "    </tr>\n",
       "    <tr>\n",
       "      <th>0</th>\n",
       "      <td>marvels the avengers</td>\n",
       "      <td>1518900000</td>\n",
       "      <td>Sci-Fi</td>\n",
       "    </tr>\n",
       "    <tr>\n",
       "      <th>1</th>\n",
       "      <td>avengers age of ultron</td>\n",
       "      <td>1405400000</td>\n",
       "      <td>Action</td>\n",
       "    </tr>\n",
       "    <tr>\n",
       "      <th>1</th>\n",
       "      <td>avengers age of ultron</td>\n",
       "      <td>1405400000</td>\n",
       "      <td>Adventure</td>\n",
       "    </tr>\n",
       "  </tbody>\n",
       "</table>\n",
       "</div>"
      ],
      "text/plain": [
       "                    title  total_gross      genre\n",
       "0    marvels the avengers   1518900000     Action\n",
       "0    marvels the avengers   1518900000  Adventure\n",
       "0    marvels the avengers   1518900000     Sci-Fi\n",
       "1  avengers age of ultron   1405400000     Action\n",
       "1  avengers age of ultron   1405400000  Adventure"
      ]
     },
     "execution_count": 533,
     "metadata": {},
     "output_type": "execute_result"
    }
   ],
   "source": [
    "\"\"\"\n",
    "Here we're going to want to explode the list of genres so that each genre is listed individually.\n",
    "We'll then use a barplot to visualize earnings per genre.\n",
    "\"\"\"\n",
    "\n",
    "#clean df so only title, total_gross, and genres remain\n",
    "clean = top_earners.drop(['studio','domestic_gross', 'foreign_gross', 'year'], axis=1)\n",
    "\n",
    "#create individual entries for each genre\n",
    "genres_te = top_earners['genres'].str.split(',', expand=True).stack().reset_index(level=1, drop=True)\n",
    "genres_te\n",
    "#merge exploded genres with movie and total_gross and sort by total_gross\n",
    "df4=clean.merge(genres_te.to_frame(name='genre'), left_index=True, right_index=True)\n",
    "df4.drop(columns='genres', inplace=True)\n",
    "#did it work?  \n",
    "df4.head()"
   ]
  },
  {
   "cell_type": "code",
   "execution_count": null,
   "metadata": {},
   "outputs": [],
   "source": []
  },
  {
   "cell_type": "code",
   "execution_count": 454,
   "metadata": {},
   "outputs": [
    {
     "data": {
      "image/png": "[encoded data removed]",
      "text/plain": [
       "<Figure size 576x360 with 1 Axes>"
      ]
     },
     "metadata": {},
     "output_type": "display_data"
    }
   ],
   "source": [
    "#plot df4\n",
    "sns.set(rc={\"figure.figsize\":(8,5)})\n",
    "x= sns.stripplot(data=df_sort, x='genre', y='total_gross', hue='genre')\n",
    "x.tick_params(labelrotation=45)\n"
   ]
  },
  {
   "cell_type": "code",
   "execution_count": null,
   "metadata": {},
   "outputs": [],
   "source": []
  },
  {
   "cell_type": "markdown",
   "metadata": {},
   "source": [
    "### Comparing Budgets vs. Earnings\n",
    "\n",
    "Now that we've seen what genres of movies are top earners, let's look to see if there's a correlation between a big budget and big profits.  Our first step will be to open the csv file from The Numbers to view our movie titles and their budgets."
   ]
  },
  {
   "cell_type": "code",
   "execution_count": 498,
   "metadata": {},
   "outputs": [
    {
     "data": {
      "text/html": [
       "<div>\n",
       "<style scoped>\n",
       "    .dataframe tbody tr th:only-of-type {\n",
       "        vertical-align: middle;\n",
       "    }\n",
       "\n",
       "    .dataframe tbody tr th {\n",
       "        vertical-align: top;\n",
       "    }\n",
       "\n",
       "    .dataframe thead th {\n",
       "        text-align: right;\n",
       "    }\n",
       "</style>\n",
       "<table border=\"1\" class=\"dataframe\">\n",
       "  <thead>\n",
       "    <tr style=\"text-align: right;\">\n",
       "      <th></th>\n",
       "      <th>movie</th>\n",
       "      <th>production_budget</th>\n",
       "      <th>worldwide_gross</th>\n",
       "    </tr>\n",
       "  </thead>\n",
       "  <tbody>\n",
       "    <tr>\n",
       "      <th>0</th>\n",
       "      <td>Avatar</td>\n",
       "      <td>425000000</td>\n",
       "      <td>2776345279</td>\n",
       "    </tr>\n",
       "    <tr>\n",
       "      <th>1</th>\n",
       "      <td>Titanic</td>\n",
       "      <td>200000000</td>\n",
       "      <td>2208208395</td>\n",
       "    </tr>\n",
       "    <tr>\n",
       "      <th>2</th>\n",
       "      <td>Star Wars Ep. VII: The Force Awakens</td>\n",
       "      <td>306000000</td>\n",
       "      <td>2053311220</td>\n",
       "    </tr>\n",
       "    <tr>\n",
       "      <th>3</th>\n",
       "      <td>Avengers: Infinity War</td>\n",
       "      <td>300000000</td>\n",
       "      <td>2048134200</td>\n",
       "    </tr>\n",
       "    <tr>\n",
       "      <th>4</th>\n",
       "      <td>Jurassic World</td>\n",
       "      <td>215000000</td>\n",
       "      <td>1648854864</td>\n",
       "    </tr>\n",
       "    <tr>\n",
       "      <th>...</th>\n",
       "      <td>...</td>\n",
       "      <td>...</td>\n",
       "      <td>...</td>\n",
       "    </tr>\n",
       "    <tr>\n",
       "      <th>1441</th>\n",
       "      <td>Nanny McPhee and the Big Bang</td>\n",
       "      <td>35000000</td>\n",
       "      <td>97799865</td>\n",
       "    </tr>\n",
       "    <tr>\n",
       "      <th>1442</th>\n",
       "      <td>Evil Dead</td>\n",
       "      <td>17000000</td>\n",
       "      <td>97778356</td>\n",
       "    </tr>\n",
       "    <tr>\n",
       "      <th>1443</th>\n",
       "      <td>The Thin Red Line</td>\n",
       "      <td>52000000</td>\n",
       "      <td>97709034</td>\n",
       "    </tr>\n",
       "    <tr>\n",
       "      <th>1444</th>\n",
       "      <td>13 Going On 30</td>\n",
       "      <td>37000000</td>\n",
       "      <td>97658712</td>\n",
       "    </tr>\n",
       "    <tr>\n",
       "      <th>1445</th>\n",
       "      <td>The Book of Life</td>\n",
       "      <td>50000000</td>\n",
       "      <td>97651543</td>\n",
       "    </tr>\n",
       "  </tbody>\n",
       "</table>\n",
       "<p>1446 rows × 3 columns</p>\n",
       "</div>"
      ],
      "text/plain": [
       "                                     movie  production_budget  worldwide_gross\n",
       "0                                   Avatar          425000000       2776345279\n",
       "1                                  Titanic          200000000       2208208395\n",
       "2     Star Wars Ep. VII: The Force Awakens          306000000       2053311220\n",
       "3                   Avengers: Infinity War          300000000       2048134200\n",
       "4                           Jurassic World          215000000       1648854864\n",
       "...                                    ...                ...              ...\n",
       "1441         Nanny McPhee and the Big Bang           35000000         97799865\n",
       "1442                             Evil Dead           17000000         97778356\n",
       "1443                     The Thin Red Line           52000000         97709034\n",
       "1444                        13 Going On 30           37000000         97658712\n",
       "1445                      The Book of Life           50000000         97651543\n",
       "\n",
       "[1446 rows x 3 columns]"
      ]
     },
     "execution_count": 498,
     "metadata": {},
     "output_type": "execute_result"
    }
   ],
   "source": [
    "#open TN data as budgets df\n",
    "budget = pd.read_csv(\"zippedData/tn.movie_budgets.csv.gz\")\n",
    "\n",
    "#drop unneeded columns\n",
    "budget.drop(['id', 'release_date', 'domestic_gross'], axis=1, inplace=True)\n",
    "\n",
    "#clean column values\n",
    "budget['production_budget'] = budget['production_budget'].str.replace('[^\\w\\s]','')\n",
    "budget['production_budget'] = budget['production_budget'].astype(int)\n",
    "budget['worldwide_gross'] = budget['worldwide_gross'].str.replace('[^\\w\\s]','')\n",
    "budget['worldwide_gross'] = budget['worldwide_gross'].astype(int)\n",
    "\n",
    "#sort by top gross and extract top quartile earners\n",
    "budget_sorted = budget.sort_values(by=['worldwide_gross'], ascending=False)\n",
    "budget_sorted = budget_sorted.reset_index(drop=True)\n",
    "bstq= budget_sorted[budget_sorted['worldwide_gross'] > budget_sorted['worldwide_gross'].quantile(0.75)]\n",
    "\n",
    "bstq.head()"
   ]
  },
  {
   "cell_type": "code",
   "execution_count": null,
   "metadata": {},
   "outputs": [],
   "source": [
    "\"\"\"\n",
    "Quick note on the following code-  Pandas documentation suggests rewriting chained expressions as: \n",
    "df.loc[df['A'] > 2, 'B'] = new_va\n",
    "\n",
    "However, in this case, our rewrite would look like:\n",
    "bstq.loc[bstq['worldwide_gross'] - bstq['production_budget']]= 'net_income'\n",
    "\n",
    "which is not possible to run\n",
    "\n",
    "\"\"\"\n",
    "bstq['net_income']= bstq['worldwide_gross'] - bstq['production_budget']\n",
    "bstq.sort_values(by=['net_income'], ascending=False)"
   ]
  },
  {
   "cell_type": "markdown",
   "metadata": {},
   "source": [
    "\n",
    "\n",
    "Now that we've got our budgets vs. earnings df, lets look at the correlation between budgets and worldwide_gross for all films, and for films in our top quartile.\n",
    "\n",
    "\n"
   ]
  },
  {
   "cell_type": "code",
   "execution_count": 524,
   "metadata": {},
   "outputs": [
    {
     "name": "stdout",
     "output_type": "stream",
     "text": [
      "Correlation of Budget to Worldwide Gross: All films \n",
      "\n",
      "                    production_budget  worldwide_gross\n",
      "production_budget           1.000000         0.748306\n",
      "worldwide_gross             0.748306         1.000000\n",
      "\n",
      "-----------------------------------------\n",
      "\n",
      "Correlation of Budget to Worldwide Gross: Top Quartile \n",
      "\n",
      "                    production_budget  worldwide_gross  net_income\n",
      "production_budget           1.000000         0.628690    0.457357\n",
      "worldwide_gross             0.628690         1.000000    0.979092\n",
      "net_income                  0.457357         0.979092    1.000000\n"
     ]
    }
   ],
   "source": [
    "print(\"Correlation of Budget to Worldwide Gross: All films \\n\\n\",  budget_sorted.corr())\n",
    "print('\\n-----------------------------------------\\n')\n",
    "print('Correlation of Budget to Worldwide Gross: Top Quartile \\n\\n', bstq.corr())\n"
   ]
  },
  {
   "cell_type": "markdown",
   "metadata": {},
   "source": [
    "\n",
    "\n",
    "We can see that there is indeed a strong correlation between production budget and total gross for all films, and a moderate to strong correlation in the top quartile of earners.  Let's see what that looks like using a scatterplot.\n",
    "\n"
   ]
  },
  {
   "cell_type": "code",
   "execution_count": 530,
   "metadata": {},
   "outputs": [
    {
     "data": {
      "image/png": "[encoded data removed]",
      "text/plain": [
       "<Figure size 468.05x360 with 1 Axes>"
      ]
     },
     "metadata": {},
     "output_type": "display_data"
    }
   ],
   "source": [
    "g = sns.relplot(\n",
    "                data = bstq,\n",
    "                x = \"production_budget\", y = \"worldwide_gross\",\n",
    "                hue = \"production_budget\", size = \"production_budget\",\n",
    "                sizes = (10, 200),\n",
    "                )\n",
    "g.fig.suptitle('Production Budget & Worldwide Gross')\n",
    "g.set(xscale = \"linear\", yscale = \"linear\");"
   ]
  },
  {
   "cell_type": "code",
   "execution_count": null,
   "metadata": {},
   "outputs": [],
   "source": [
    "\n"
   ]
  },
  {
   "cell_type": "code",
   "execution_count": null,
   "metadata": {},
   "outputs": [],
   "source": []
  }
 ],
 "metadata": {
  "kernelspec": {
   "display_name": "Python 3",
   "language": "python",
   "name": "python3"
  },
  "language_info": {
   "codemirror_mode": {
    "name": "ipython",
    "version": 3
   },
   "file_extension": ".py",
   "mimetype": "text/x-python",
   "name": "python",
   "nbconvert_exporter": "python",
   "pygments_lexer": "ipython3",
   "version": "3.8.5"
  },
  "toc": {
   "base_numbering": 1,
   "nav_menu": {},
   "number_sections": true,
   "sideBar": true,
   "skip_h1_title": false,
   "title_cell": "Table of Contents",
   "title_sidebar": "Contents",
   "toc_cell": false,
   "toc_position": {},
   "toc_section_display": true,
   "toc_window_display": false
  }
 },
 "nbformat": 4,
 "nbformat_minor": 2
}
